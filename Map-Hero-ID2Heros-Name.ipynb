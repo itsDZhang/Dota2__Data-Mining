{
 "cells": [
  {
   "cell_type": "code",
   "execution_count": 41,
   "metadata": {},
   "outputs": [],
   "source": [
    "import pandas as pd\n",
    "\n",
    "#Determine your file name\n",
    "heroes = pd.read_csv('./dota-2-matches/hero_names.csv')\n",
    "\n",
    "#Returns a map of heroId to name\n",
    "def mapId2Name():\n",
    "    mapheroes = {}\n",
    "    for row in heroes.itertuples():\n",
    "        mapheroes[row.hero_id] = row.localized_name\n",
    "    return mapheroes\n",
    "\n",
    "#Returns a map of name to Id\n",
    "def mapName2Id():\n",
    "    mapId = {}\n",
    "    for row in heroes.itertuples():\n",
    "        mapheroes[row.hero_id] = row.localized_name\n",
    "    return mapId\n",
    "\n",
    "\n",
    "def searchHeroName(heroId):\n",
    "    mapToReturn = mapId2Name()\n",
    "    return mapToReturn[heroId]\n",
    "\n",
    "\n",
    "def searchHeroId(heroName):\n",
    "    mapToReturn = mapName2Id()\n",
    "    return mapToReturn[heroName]\n",
    "\n",
    "\n",
    "\n",
    "# print(mapName2Id())\n",
    "# print(mapId2Name())"
   ]
  },
  {
   "cell_type": "code",
   "execution_count": null,
   "metadata": {},
   "outputs": [],
   "source": [
    "\n",
    "\n",
    "    \n",
    "\n"
   ]
  },
  {
   "cell_type": "code",
   "execution_count": null,
   "metadata": {
    "collapsed": true
   },
   "outputs": [],
   "source": []
  }
 ],
 "metadata": {
  "kernelspec": {
   "display_name": "Python 3",
   "language": "python",
   "name": "python3"
  },
  "language_info": {
   "codemirror_mode": {
    "name": "ipython",
    "version": 3
   },
   "file_extension": ".py",
   "mimetype": "text/x-python",
   "name": "python",
   "nbconvert_exporter": "python",
   "pygments_lexer": "ipython3",
   "version": "3.6.3"
  }
 },
 "nbformat": 4,
 "nbformat_minor": 2
}
