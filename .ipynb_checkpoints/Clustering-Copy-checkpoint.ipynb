{
 "cells": [
  {
   "cell_type": "code",
   "execution_count": 1,
   "metadata": {
    "collapsed": true
   },
   "outputs": [],
   "source": [
    "# import required libraries\n",
    "import pandas as pd\n",
    "from mlxtend.preprocessing import TransactionEncoder\n",
    "from mlxtend.frequent_patterns import apriori, association_rules\n",
    "import numpy as np\n",
    "from sklearn.cluster import KMeans\n",
    "import matplotlib.pyplot as plt\n",
    "import matplotlib\n",
    "from mpl_toolkits.mplot3d import Axes3D\n",
    "from yellowbrick.cluster import KElbowVisualizer\n",
    "\n",
    "#import data\n",
    "matches = pd.read_csv('test_player.csv')\n",
    "champions = pd.read_csv('hero_names_category.csv')\n",
    "heroes = pd.read_csv('hero_names.csv')"
   ]
  },
  {
   "cell_type": "code",
   "execution_count": null,
   "metadata": {
    "collapsed": true
   },
   "outputs": [],
   "source": [
    "#remove account_id column\n",
    "matches = matches.drop(\"account_id\",axis=1)"
   ]
  },
  {
   "cell_type": "code",
   "execution_count": null,
   "metadata": {
    "collapsed": true
   },
   "outputs": [],
   "source": [
    "#Returns a map of heroId to name\n",
    "def mapId2Name():\n",
    "    mapheroes = {}\n",
    "    for row in heroes.itertuples():\n",
    "        mapheroes[row.hero_id] = row.localized_name\n",
    "    return mapheroes\n",
    "\n",
    "#Returns a map of name to Id\n",
    "def mapName2Id():\n",
    "    mapId = {}\n",
    "    for row in heroes.itertuples():\n",
    "        mapheroes[row.localized_name] = row.hero_id\n",
    "    return mapId\n",
    "\n",
    "\n",
    "def searchHeroName(heroId):\n",
    "    mapToReturn = mapId2Name()\n",
    "    return mapToReturn[heroId]\n",
    "\n",
    "\n",
    "def searchHeroId(heroName):\n",
    "    mapToReturn = mapName2Id()\n",
    "    return mapToReturn[heroName]"
   ]
  },
  {
   "cell_type": "code",
   "execution_count": null,
   "metadata": {
    "collapsed": false
   },
   "outputs": [],
   "source": [
    "#understanding player slot\n",
    "matches.head(n=5)"
   ]
  },
  {
   "cell_type": "code",
   "execution_count": null,
   "metadata": {
    "collapsed": false
   },
   "outputs": [],
   "source": [
    "#collapse data into columns\n",
    "#The interpretation of this table is that the row represent that particular match ID. The column names are the player\n",
    "#slots. They are not the individual players but rather the slots that the players play in. \n",
    "#The value within each cell is the hero id. \n",
    "competitor_rows = pd.pivot_table(matches, values='hero_id', index=['match_id'], columns='player_slot')\n",
    "competitor_rows.head(n=5)"
   ]
  },
  {
   "cell_type": "code",
   "execution_count": null,
   "metadata": {
    "collapsed": false
   },
   "outputs": [],
   "source": [
    "#Current each row consists of two teams. Therefore, we split dataframe vertically to separate the two teams.\n",
    "#The 2nd section of the dataframe now gets appended to the end of the 1 section.\n",
    "#Each row in the resultant dataframe corresponds with only one team rather than two.\n",
    "section = competitor_rows\n",
    "sectionA,sectionB  = np.split(section, 2, axis=1)\n",
    "sectionB.columns = sectionA.columns\n",
    "sectionA.append(sectionB,ignore_index = True)\n",
    "sectionA.head(n=5)"
   ]
  },
  {
   "cell_type": "code",
   "execution_count": null,
   "metadata": {
    "collapsed": false
   },
   "outputs": [],
   "source": [
    "#The table above now gets transformed into a binary matrix. Each column name corresponds to the hero id. \n",
    "#Each row corresponds to a particular match id. However, it's worth mentioning that the match id values gets reset to \n",
    "#start at one but the current situation does not consider the match id for clustering so the result is not affected. \n",
    "\n",
    "#The interpretation of the binary matrix starts off with each row representing a match for one team\n",
    "#Each column in the binary matrix corresponds to a hero Id\n",
    "#The value of each cell represent whether that particular hero is chosen for that particular match \n",
    "#for that specific team.\n",
    "\n",
    "#It's worth mentioning that the dataframe starts off at column index 0. However, hero Ids start off at 1 \n",
    "#This means that every player's index is offset by one. This situation has been accounted for. \n",
    "\n",
    "dataset=[]\n",
    "for row in sectionA.iterrows():\n",
    "    index, data = row\n",
    "    dataset.append(data.tolist())\n",
    "#it transforms the input dataset (a Python list of lists) into a one-hot encoded NumPy boolean array\n",
    "oht = TransactionEncoder()\n",
    "oht_ary = oht.fit(dataset).transform(dataset)\n",
    "df = pd.DataFrame(oht_ary, columns=oht.columns_)\n",
    "df.head(n=5)"
   ]
  },
  {
   "cell_type": "code",
   "execution_count": null,
   "metadata": {
    "collapsed": false
   },
   "outputs": [],
   "source": [
    "#Converting the binary string matrix to a binary integer matrix\n",
    "# 0: False\n",
    "# 1: True\n",
    "df = df*1\n",
    "df.head()"
   ]
  },
  {
   "cell_type": "code",
   "execution_count": null,
   "metadata": {
    "collapsed": false
   },
   "outputs": [],
   "source": [
    "# Instantiate the clustering model and visualizer\n",
    "model = KMeans()\n",
    "visualizer = KElbowVisualizer(model, k=(4,10),metric='calinski_harabaz')\n",
    "\n",
    "visualizer.fit(df)    # Fit the data to the visualizer\n",
    "visualizer.poof()    # Draw/show/poof the data"
   ]
  },
  {
   "cell_type": "code",
   "execution_count": 19,
   "metadata": {
    "collapsed": true
   },
   "outputs": [],
   "source": [
    "visualizer.poof()    # Draw/show/poof the data"
   ]
  },
  {
   "cell_type": "code",
   "execution_count": 19,
   "metadata": {
    "collapsed": true
   },
   "outputs": [],
   "source": [
    "# create kmeans object and call fit\n",
    "#Applies Kmeans algorithm\n",
    "KM = KMeans(n_clusters=5, init='k-means++', random_state=170)\n",
    "KM = KM.fit(df)\n",
    "# print(\"The cluster centroids are: \\n\", KM.cluster_centers_)\n",
    "# print(\"Cluster_label:\\n\", KM.labels_)"
   ]
  },
  {
   "cell_type": "code",
   "execution_count": null,
   "metadata": {
    "collapsed": true
   },
   "outputs": [],
   "source": []
  },
  {
   "cell_type": "code",
   "execution_count": 20,
   "metadata": {
    "collapsed": true
   },
   "outputs": [],
   "source": [
    "#Based off the results collected, each index corresponds with a HeroID. However, an array starts at 0 which offets\n",
    "#every monster to the left. Additionally, the dataset not account for hero ID: 24 but there is still a value at index.\n",
    "#This means that every monster with an original hero id greater than 23 is offset to the left by two. \n",
    "#Therefore, the below method brings back the monster to its rightful index\n",
    "def correctCluster(cluster):\n",
    "    resultArr = []\n",
    "    for num in cluster:\n",
    "        resultArr.append(num+2) if num>23 else resultArr.append(num+1)\n",
    "    return resultArr"
   ]
  },
  {
   "cell_type": "code",
   "execution_count": 21,
   "metadata": {
    "collapsed": true
   },
   "outputs": [],
   "source": [
    "cluster1 = KM.cluster_centers_[0]\n",
    "cluster2 = KM.cluster_centers_[1]\n",
    "cluster3 = KM.cluster_centers_[2]\n",
    "cluster4 = KM.cluster_centers_[3]\n",
    "cluster5 = KM.cluster_centers_[4]\n",
    "\n",
    "#This map's keys would be the cluster's name and each corresponding value would be a tuple of the top 5 hero names\n",
    "clusterMapName = {}\n",
    "#This map's keys would be the cluster's name and each corresponding value would be a tuple of the top 5 hero Ids\n",
    "clusterMapId = {}\n",
    "\n",
    "##Cluster 1\n",
    "\n",
    "#The function below sorts the array index from lowest to highest based off the value of each elements\n",
    "#This means that the first 5 index slots that has highest values will be returned\n",
    "#For example: given array=[5,1,4,8,0], the result would be [4,1,2,0,3]\n",
    "A = sorted(range(len(cluster1)), key=lambda i: cluster1[i])[-5:]\n",
    "top5HerosId = correctCluster(A)\n",
    "hero1 = searchHeroName(top5HerosId[0])\n",
    "hero2 = searchHeroName(top5HerosId[1])\n",
    "hero3 = searchHeroName(top5HerosId[2])\n",
    "hero4 = searchHeroName(top5HerosId[3])\n",
    "hero5 = searchHeroName(top5HerosId[4])\n",
    "clusterMapId['Cluster1'] = (top5HerosId[0],top5HerosId[1],top5HerosId[2],top5HerosId[3],top5HerosId[4])\n",
    "clusterMapName['Cluster1']=(hero1,hero2,hero3,hero4,hero5)\n",
    "\n",
    "##Cluster 2\n",
    "A = sorted(range(len(cluster2)), key=lambda i: cluster2[i])[-5:]\n",
    "top5HerosId = correctCluster(A)\n",
    "hero1 = searchHeroName(top5HerosId[0])\n",
    "hero2 = searchHeroName(top5HerosId[1])\n",
    "hero3 = searchHeroName(top5HerosId[2])\n",
    "hero4 = searchHeroName(top5HerosId[3])\n",
    "hero5 = searchHeroName(top5HerosId[4])\n",
    "clusterMapId['Cluster2'] = (top5HerosId[0],top5HerosId[1],top5HerosId[2],top5HerosId[3],top5HerosId[4])\n",
    "clusterMapName['Cluster2']=(hero1,hero2,hero3,hero4,hero5)\n",
    "\n",
    "##Cluster 3\n",
    "A = sorted(range(len(cluster3)), key=lambda i: cluster3[i])[-5:]\n",
    "top5HerosId = correctCluster(A)\n",
    "hero1 = searchHeroName(top5HerosId[0])\n",
    "hero2 = searchHeroName(top5HerosId[1])\n",
    "hero3 = searchHeroName(top5HerosId[2])\n",
    "hero4 = searchHeroName(top5HerosId[3])\n",
    "hero5 = searchHeroName(top5HerosId[4])\n",
    "clusterMapId['Cluster3'] = (top5HerosId[0],top5HerosId[1],top5HerosId[2],top5HerosId[3],top5HerosId[4])\n",
    "clusterMapName['Cluster3']=(hero1,hero2,hero3,hero4,hero5)\n",
    "\n",
    "##Cluster 4\n",
    "A = sorted(range(len(cluster4)), key=lambda i: cluster4[i])[-5:]\n",
    "top5HerosId = correctCluster(A)\n",
    "hero1 = searchHeroName(top5HerosId[0])\n",
    "hero2 = searchHeroName(top5HerosId[1])\n",
    "hero3 = searchHeroName(top5HerosId[2])\n",
    "hero4 = searchHeroName(top5HerosId[3])\n",
    "hero5 = searchHeroName(top5HerosId[4])\n",
    "clusterMapId['Cluster4'] = (top5HerosId[0],top5HerosId[1],top5HerosId[2],top5HerosId[3],top5HerosId[4])\n",
    "clusterMapName['Cluster4']=(hero1,hero2,hero3,hero4,hero5)\n",
    "\n",
    "##Cluster 5\n",
    "A = sorted(range(len(cluster5)), key=lambda i: cluster5[i])[-5:]\n",
    "top5HerosId = correctCluster(A)\n",
    "hero1 = searchHeroName(top5HerosId[0])\n",
    "hero2 = searchHeroName(top5HerosId[1])\n",
    "hero3 = searchHeroName(top5HerosId[2])\n",
    "hero4 = searchHeroName(top5HerosId[3])\n",
    "hero5 = searchHeroName(top5HerosId[4])\n",
    "clusterMapId['Cluster5'] = (top5HerosId[0],top5HerosId[1],top5HerosId[2],top5HerosId[3],top5HerosId[4])\n",
    "clusterMapName['Cluster5']=(hero1,hero2,hero3,hero4,hero5)\n"
   ]
  },
  {
   "cell_type": "code",
   "execution_count": 22,
   "metadata": {
    "collapsed": false
   },
   "outputs": [
    {
     "data": {
      "text/html": [
       "<div>\n",
       "<style scoped>\n",
       "    .dataframe tbody tr th:only-of-type {\n",
       "        vertical-align: middle;\n",
       "    }\n",
       "\n",
       "    .dataframe tbody tr th {\n",
       "        vertical-align: top;\n",
       "    }\n",
       "\n",
       "    .dataframe thead th {\n",
       "        text-align: right;\n",
       "    }\n",
       "</style>\n",
       "<table border=\"1\" class=\"dataframe\">\n",
       "  <thead>\n",
       "    <tr style=\"text-align: right;\">\n",
       "      <th></th>\n",
       "      <th>Cluster1</th>\n",
       "      <th>Cluster2</th>\n",
       "      <th>Cluster3</th>\n",
       "      <th>Cluster4</th>\n",
       "      <th>Cluster5</th>\n",
       "    </tr>\n",
       "  </thead>\n",
       "  <tbody>\n",
       "    <tr>\n",
       "      <th>0</th>\n",
       "      <td>Juggernaut</td>\n",
       "      <td>Winter Wyvern</td>\n",
       "      <td>Clockwerk</td>\n",
       "      <td>Axe</td>\n",
       "      <td>Skywrath Mage</td>\n",
       "    </tr>\n",
       "    <tr>\n",
       "      <th>1</th>\n",
       "      <td>Skywrath Mage</td>\n",
       "      <td>Clockwerk</td>\n",
       "      <td>Juggernaut</td>\n",
       "      <td>Skywrath Mage</td>\n",
       "      <td>Tidehunter</td>\n",
       "    </tr>\n",
       "    <tr>\n",
       "      <th>2</th>\n",
       "      <td>Mirana</td>\n",
       "      <td>Skywrath Mage</td>\n",
       "      <td>Skywrath Mage</td>\n",
       "      <td>Juggernaut</td>\n",
       "      <td>Mirana</td>\n",
       "    </tr>\n",
       "    <tr>\n",
       "      <th>3</th>\n",
       "      <td>Invoker</td>\n",
       "      <td>Juggernaut</td>\n",
       "      <td>Tidehunter</td>\n",
       "      <td>Mirana</td>\n",
       "      <td>Juggernaut</td>\n",
       "    </tr>\n",
       "    <tr>\n",
       "      <th>4</th>\n",
       "      <td>Venomancer</td>\n",
       "      <td>Earth Spirit</td>\n",
       "      <td>Phantom Lancer</td>\n",
       "      <td>Silencer</td>\n",
       "      <td>Zeus</td>\n",
       "    </tr>\n",
       "  </tbody>\n",
       "</table>\n",
       "</div>"
      ],
      "text/plain": [
       "        Cluster1       Cluster2        Cluster3       Cluster4       Cluster5\n",
       "0     Juggernaut  Winter Wyvern       Clockwerk            Axe  Skywrath Mage\n",
       "1  Skywrath Mage      Clockwerk      Juggernaut  Skywrath Mage     Tidehunter\n",
       "2         Mirana  Skywrath Mage   Skywrath Mage     Juggernaut         Mirana\n",
       "3        Invoker     Juggernaut      Tidehunter         Mirana     Juggernaut\n",
       "4     Venomancer   Earth Spirit  Phantom Lancer       Silencer           Zeus"
      ]
     },
     "execution_count": 22,
     "metadata": {},
     "output_type": "execute_result"
    }
   ],
   "source": [
    "#Table of hero names for a given cluster\n",
    "pd.DataFrame(clusterMapName)"
   ]
  },
  {
   "cell_type": "code",
   "execution_count": 23,
   "metadata": {
    "collapsed": false
   },
   "outputs": [
    {
     "data": {
      "text/html": [
       "<div>\n",
       "<style scoped>\n",
       "    .dataframe tbody tr th:only-of-type {\n",
       "        vertical-align: middle;\n",
       "    }\n",
       "\n",
       "    .dataframe tbody tr th {\n",
       "        vertical-align: top;\n",
       "    }\n",
       "\n",
       "    .dataframe thead th {\n",
       "        text-align: right;\n",
       "    }\n",
       "</style>\n",
       "<table border=\"1\" class=\"dataframe\">\n",
       "  <thead>\n",
       "    <tr style=\"text-align: right;\">\n",
       "      <th></th>\n",
       "      <th>Cluster1</th>\n",
       "      <th>Cluster2</th>\n",
       "      <th>Cluster3</th>\n",
       "      <th>Cluster4</th>\n",
       "      <th>Cluster5</th>\n",
       "    </tr>\n",
       "  </thead>\n",
       "  <tbody>\n",
       "    <tr>\n",
       "      <th>0</th>\n",
       "      <td>8</td>\n",
       "      <td>112</td>\n",
       "      <td>51</td>\n",
       "      <td>2</td>\n",
       "      <td>101</td>\n",
       "    </tr>\n",
       "    <tr>\n",
       "      <th>1</th>\n",
       "      <td>101</td>\n",
       "      <td>51</td>\n",
       "      <td>8</td>\n",
       "      <td>101</td>\n",
       "      <td>29</td>\n",
       "    </tr>\n",
       "    <tr>\n",
       "      <th>2</th>\n",
       "      <td>9</td>\n",
       "      <td>101</td>\n",
       "      <td>101</td>\n",
       "      <td>8</td>\n",
       "      <td>9</td>\n",
       "    </tr>\n",
       "    <tr>\n",
       "      <th>3</th>\n",
       "      <td>74</td>\n",
       "      <td>8</td>\n",
       "      <td>29</td>\n",
       "      <td>9</td>\n",
       "      <td>8</td>\n",
       "    </tr>\n",
       "    <tr>\n",
       "      <th>4</th>\n",
       "      <td>40</td>\n",
       "      <td>107</td>\n",
       "      <td>12</td>\n",
       "      <td>75</td>\n",
       "      <td>22</td>\n",
       "    </tr>\n",
       "  </tbody>\n",
       "</table>\n",
       "</div>"
      ],
      "text/plain": [
       "   Cluster1  Cluster2  Cluster3  Cluster4  Cluster5\n",
       "0         8       112        51         2       101\n",
       "1       101        51         8       101        29\n",
       "2         9       101       101         8         9\n",
       "3        74         8        29         9         8\n",
       "4        40       107        12        75        22"
      ]
     },
     "execution_count": 23,
     "metadata": {},
     "output_type": "execute_result"
    }
   ],
   "source": [
    "#Table of hero ids for a given cluster\n",
    "resultIds = pd.DataFrame(clusterMapId)\n",
    "resultIds"
   ]
  },
  {
   "cell_type": "code",
   "execution_count": 24,
   "metadata": {
    "collapsed": false
   },
   "outputs": [
    {
     "data": {
      "text/html": [
       "<div>\n",
       "<style scoped>\n",
       "    .dataframe tbody tr th:only-of-type {\n",
       "        vertical-align: middle;\n",
       "    }\n",
       "\n",
       "    .dataframe tbody tr th {\n",
       "        vertical-align: top;\n",
       "    }\n",
       "\n",
       "    .dataframe thead th {\n",
       "        text-align: right;\n",
       "    }\n",
       "</style>\n",
       "<table border=\"1\" class=\"dataframe\">\n",
       "  <thead>\n",
       "    <tr style=\"text-align: right;\">\n",
       "      <th></th>\n",
       "      <th>Cluster1</th>\n",
       "      <th>Cluster2</th>\n",
       "      <th>Cluster3</th>\n",
       "      <th>Cluster4</th>\n",
       "      <th>Cluster5</th>\n",
       "    </tr>\n",
       "  </thead>\n",
       "  <tbody>\n",
       "    <tr>\n",
       "      <th>0</th>\n",
       "      <td>carry</td>\n",
       "      <td>support</td>\n",
       "      <td>initiator</td>\n",
       "      <td>initiator</td>\n",
       "      <td>nuker</td>\n",
       "    </tr>\n",
       "    <tr>\n",
       "      <th>1</th>\n",
       "      <td>nuker</td>\n",
       "      <td>initiator</td>\n",
       "      <td>carry</td>\n",
       "      <td>nuker</td>\n",
       "      <td>initiator</td>\n",
       "    </tr>\n",
       "    <tr>\n",
       "      <th>2</th>\n",
       "      <td>escape</td>\n",
       "      <td>nuker</td>\n",
       "      <td>nuker</td>\n",
       "      <td>carry</td>\n",
       "      <td>escape</td>\n",
       "    </tr>\n",
       "    <tr>\n",
       "      <th>3</th>\n",
       "      <td>nuker</td>\n",
       "      <td>carry</td>\n",
       "      <td>initiator</td>\n",
       "      <td>escape</td>\n",
       "      <td>carry</td>\n",
       "    </tr>\n",
       "    <tr>\n",
       "      <th>4</th>\n",
       "      <td>support</td>\n",
       "      <td>nuker</td>\n",
       "      <td>carry</td>\n",
       "      <td>disabler</td>\n",
       "      <td>nuker</td>\n",
       "    </tr>\n",
       "  </tbody>\n",
       "</table>\n",
       "</div>"
      ],
      "text/plain": [
       "  Cluster1   Cluster2   Cluster3   Cluster4   Cluster5\n",
       "0    carry    support  initiator  initiator      nuker\n",
       "1    nuker  initiator      carry      nuker  initiator\n",
       "2   escape      nuker      nuker      carry     escape\n",
       "3    nuker      carry  initiator     escape      carry\n",
       "4  support      nuker      carry   disabler      nuker"
      ]
     },
     "execution_count": 24,
     "metadata": {},
     "output_type": "execute_result"
    }
   ],
   "source": [
    "#Given a hero id, we return the role that hero plays\n",
    "def find_role(heroId):\n",
    "    champ_row = champions.loc[champions[\"hero_id\"] == heroId]\n",
    "    role =  champ_row[\"role\"]\n",
    "    role = role.values\n",
    "    return ''.join(role)\n",
    "\n",
    "#In the table of hero Ids, we apply the above function into each cell\n",
    "resultCategory = resultIds.applymap(lambda x: find_role(x))\n",
    "#A table of what types of roles each cluster has\n",
    "resultCategory"
   ]
  },
  {
   "cell_type": "code",
   "execution_count": 2,
   "metadata": {
    "collapsed": true
   },
   "outputs": [],
   "source": [
    "#update - using the elbow method to calculate k \n",
    "from sklearn.datasets import make_blobs"
   ]
  },
  {
   "cell_type": "code",
   "execution_count": 3,
   "metadata": {
    "collapsed": true
   },
   "outputs": [],
   "source": [
    "# Create synthetic dataset with 8 random clusters\n",
    "X, y = make_blobs(centers=8, n_features=12, shuffle=True, random_state=42)"
   ]
  },
  {
   "cell_type": "code",
   "execution_count": 4,
   "metadata": {
    "collapsed": false
   },
   "outputs": [],
   "source": [
    "from sklearn.cluster import KMeans\n",
    "from yellowbrick.cluster import KElbowVisualizer\n",
    "\n",
    "# Instantiate the clustering model and visualizer\n",
    "model = KMeans()\n",
    "visualizer = KElbowVisualizer(model, k=(4,12))\n",
    "\n",
    "visualizer.fit(X)    # Fit the data to the visualizer\n",
    "visualizer.poof()    # Draw/show/poof the data"
   ]
  },
  {
   "cell_type": "code",
   "execution_count": null,
   "metadata": {
    "collapsed": true
   },
   "outputs": [],
   "source": []
  }
 ],
 "metadata": {
  "kernelspec": {
   "display_name": "Python 2",
   "language": "python",
   "name": "python2"
  },
  "language_info": {
   "codemirror_mode": {
    "name": "ipython",
    "version": 2
   },
   "file_extension": ".py",
   "mimetype": "text/x-python",
   "name": "python",
   "nbconvert_exporter": "python",
   "pygments_lexer": "ipython2",
   "version": "2.7.12"
  }
 },
 "nbformat": 4,
 "nbformat_minor": 2
}
